{
 "cells": [
  {
   "cell_type": "markdown",
   "id": "4f1f6cef",
   "metadata": {},
   "source": [
    "# Question 1 : Probability Practice"
   ]
  },
  {
   "cell_type": "markdown",
   "id": "7a4de275",
   "metadata": {},
   "source": [
    "Part A. Visitors to your website are asked to answer a single survey question before they get access to the content on the page. Among all of the users, there are two categories: Random Clicker (RC), and Truthful Clicker (TC). There are two possible answers to the survey: yes and no. Random clickers would click either one with equal probability. You are also giving the information that the expected fraction of random clickers is 0.3. After a trial period, you get the following survey results: 65% said Yes and 35% said No. What fraction of people who are truthful clickers answered yes? Hint: use the rule of total probability."
   ]
  },
  {
   "cell_type": "markdown",
   "id": "3fecf6cc",
   "metadata": {},
   "source": [
    "P(RC) = 0.3 | P(TC) = 0.7\n",
    "\n",
    "P(Yes|RC) = 0.5 | P(No|RC) = 0.5\n",
    "P(Yes|TC) = x | (No|TC) = y\n",
    "\n",
    "Total Probabilty of Yes\n",
    "P(Yes) = P(RC)* P(Yes|RC) + P(TC)* P(Yes|TC)\n",
    "\n",
    "\n",
    "P(No) = P(RC)* P(No|RC) + P(TC)* P(No|TC)\n",
    " "
   ]
  },
  {
   "cell_type": "code",
   "execution_count": 3,
   "id": "f0fc08a3",
   "metadata": {},
   "outputs": [
    {
     "name": "stdout",
     "output_type": "stream",
     "text": [
      "Fraction of people who are truthful clickers and answered yes are:  0.7142857142857143\n"
     ]
    }
   ],
   "source": [
    "#Implementing the logic of total probabiltiy\n",
    "\n",
    "prob_rc = 0.3  #probability of Random Clickers\n",
    "prob_tc = 0.7  #probability of Truthful Clickers\n",
    "\n",
    "prob_rc_yes = 0.5  #probability of Random Clickers who answered Yes\n",
    "prob_rc_no = 0.5   #probability of Random Clickers who answered No\n",
    "\n",
    "total_prob_yes = 0.65  #Total Probability of Yes\n",
    "total_prob_no = 0.35  #Total Probability of No\n",
    "\n",
    "#Since Total Probabilty of Yes--> P(Yes) = P(RC)* P(Yes|RC) + P(TC)* P(Yes|TC)\n",
    "prob_tc_yes = (total_prob_yes - (prob_rc * prob_rc_yes))/(prob_tc)\n",
    "print('Fraction of people who are truthful clickers and answered yes are: ', prob_tc_yes)"
   ]
  },
  {
   "cell_type": "markdown",
   "id": "9d291a3a",
   "metadata": {},
   "source": [
    "Part B. Imagine a medical test for a disease with the following two attributes:\n",
    "\n",
    "The sensitivity is about 0.993. That is, if someone has the disease, there is a probability of 0.993 that they will test positive.\n",
    "The specificity is about 0.9999. This means that if someone doesn't have the disease, there is probability of 0.9999 that they will test negative.\n",
    "In the general population, incidence of the disease is reasonably rare: about 0.0025% of all people have it (or 0.000025 as a decimal probability).\n",
    "Suppose someone tests positive. What is the probability that they have the disease?"
   ]
  },
  {
   "cell_type": "code",
   "execution_count": 6,
   "id": "ae5e7019",
   "metadata": {},
   "outputs": [
    {
     "name": "stdout",
     "output_type": "stream",
     "text": [
      "the probability that they have the disease is:  0.19888241302651516\n"
     ]
    }
   ],
   "source": [
    "prob_dis_postest = 0.993                    #sensitivity, probability of true result\n",
    "prob_dis_negtest = 1 - prob_dis_postest     #probability of False Result\n",
    "\n",
    "\n",
    "prob_nodis_negtest = 0.9999                 #specificity, probability of true result\n",
    "prob_nodis_postest = 1 - prob_nodis_negtest #probability of False Result\n",
    "\n",
    "prob_disease = 0.000025               #Total Probability of having the Disease\n",
    "prob_no = 1 - prob_disease      #Total Probability of not having the Disease\n",
    "\n",
    "#Since Total Probabilty of Having Diseases is --> P(Disease) = P(prob_disease)* P(prob_dis_postest) + P(prob_no)* P(prob_nodis_postest)\n",
    "total_prob_disease = (prob_disease* prob_dis_postest) + (prob_no * prob_nodis_postest)\n",
    "\n",
    "\n",
    "#now we need to find the conditional probability of having the disease given that someone tested positive\n",
    "# P(disease|Positive Test) = (P(PositiveTest|Disease) * P(disease))/Total probability of disease\n",
    "prob_dis_with_postest = (prob_dis_postest * prob_disease)/total_prob_disease\n",
    "print('the probability that they have the disease is: ', prob_dis_with_postest)"
   ]
  },
  {
   "cell_type": "code",
   "execution_count": null,
   "id": "89dabdcd",
   "metadata": {},
   "outputs": [],
   "source": []
  }
 ],
 "metadata": {
  "kernelspec": {
   "display_name": "Python 3 (ipykernel)",
   "language": "python",
   "name": "python3"
  },
  "language_info": {
   "codemirror_mode": {
    "name": "ipython",
    "version": 3
   },
   "file_extension": ".py",
   "mimetype": "text/x-python",
   "name": "python",
   "nbconvert_exporter": "python",
   "pygments_lexer": "ipython3",
   "version": "3.9.13"
  }
 },
 "nbformat": 4,
 "nbformat_minor": 5
}
